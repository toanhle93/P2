{
 "cells": [
  {
   "cell_type": "raw",
   "metadata": {},
   "source": [
    "Build a Traffic Sign Recognition Project\n",
    "\n",
    "The goals / steps of this project are the following:\n",
    "\n",
    "Load the data set\n",
    "Explore, summarize and visualize the data set\n",
    "Design, train and test a model architecture\n",
    "Use the model to make predictions on new images\n",
    "Analyze the softmax probabilities of the new images\n",
    "Summarize the results with a written report"
   ]
  },
  {
   "cell_type": "markdown",
   "metadata": {},
   "source": []
  },
  {
   "cell_type": "markdown",
   "metadata": {},
   "source": [
    "### Provide a Basic Summary of the Data Set Using Python, Numpy and/or Pandas"
   ]
  },
  {
   "cell_type": "raw",
   "metadata": {},
   "source": [
    "I used the pandas library to calculate summary statistics of the traffic signs data set:\n",
    "\n",
    "The size of training set is 34799\n",
    "The size of test set is 12630\n",
    "The shape of a traffic sign image is (32, 32, 3)\n",
    "The number of unique classes/labels in the data set is 43"
   ]
  },
  {
   "cell_type": "markdown",
   "metadata": {},
   "source": [
    "Here is an exploratory visualization of the data set:"
   ]
  },
  {
   "cell_type": "markdown",
   "metadata": {},
   "source": []
  }
 ],
 "metadata": {
  "kernelspec": {
   "display_name": "Python [default]",
   "language": "python",
   "name": "python3"
  },
  "language_info": {
   "codemirror_mode": {
    "name": "ipython",
    "version": 3
   },
   "file_extension": ".py",
   "mimetype": "text/x-python",
   "name": "python",
   "nbconvert_exporter": "python",
   "pygments_lexer": "ipython3",
   "version": "3.5.2"
  }
 },
 "nbformat": 4,
 "nbformat_minor": 1
}
